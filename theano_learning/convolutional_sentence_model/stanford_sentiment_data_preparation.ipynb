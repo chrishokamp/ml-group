{
 "cells": [
  {
   "cell_type": "code",
   "execution_count": 1,
   "metadata": {
    "collapsed": false
   },
   "outputs": [],
   "source": [
    "from __future__ import division, print_function\n",
    "import numpy as np\n",
    "\n",
    "%load_ext autoreload\n",
    "%autoreload 2"
   ]
  },
  {
   "cell_type": "code",
   "execution_count": 2,
   "metadata": {
    "collapsed": true
   },
   "outputs": [],
   "source": [
    "# format: phrase|phrase_id\n",
    "dictionary_file = 'sample_data/stanfordSentimentTreebank/dictionary.txt'\n",
    "\n",
    "# format: phrase_id|score\n",
    "phrases_and_scores = 'sample_data/stanfordSentimentTreebank/sentiment_labels.txt'"
   ]
  },
  {
   "cell_type": "code",
   "execution_count": 3,
   "metadata": {
    "collapsed": true
   },
   "outputs": [],
   "source": [
    "import codecs\n",
    "with codecs.open(dictionary_file, encoding='utf8') as phrases:\n",
    "    phrase_map = {}\n",
    "    for l in phrases:\n",
    "        phrase, phrase_id = l.strip().split('|')\n",
    "        phrase_map[phrase] = int(phrase_id)\n",
    "    "
   ]
  },
  {
   "cell_type": "code",
   "execution_count": 4,
   "metadata": {
    "collapsed": true
   },
   "outputs": [],
   "source": [
    "# TASK (1) - create a lookup index for the phrases - DONE!"
   ]
  },
  {
   "cell_type": "code",
   "execution_count": 5,
   "metadata": {
    "collapsed": false
   },
   "outputs": [
    {
     "data": {
      "text/plain": [
       "[(u'with restraint', 13162),\n",
       " (u'who is utterly unlikeable', 178229),\n",
       " (u'smart , edgy', 37041),\n",
       " (u'have been Problem Child', 160805),\n",
       " (u'will want to see over and over again .', 238800),\n",
       " (u'proves unrelentingly grim -- and equally engrossing', 90803),\n",
       " (u'just feels generic', 164309),\n",
       " (u'to bring happiness to their loved ones', 39150),\n",
       " (u'woods', 13239),\n",
       " (u'clotted', 117111)]"
      ]
     },
     "execution_count": 5,
     "metadata": {},
     "output_type": "execute_result"
    }
   ],
   "source": [
    "phrase_map.items()[:10]"
   ]
  },
  {
   "cell_type": "code",
   "execution_count": 6,
   "metadata": {
    "collapsed": false
   },
   "outputs": [],
   "source": [
    "# TASK (2) - map the phrases to their scores\n",
    "with codecs.open(phrases_and_scores, encoding='utf8') as phrases:\n",
    "    phrase_scores = {}\n",
    "    for l in phrases.read().split('\\n')[1:-1]:\n",
    "        phrase, phrase_score = l.strip().split('|')\n",
    "        phrase_scores[int(phrase)] = float(phrase_score)\n",
    "\n",
    "# task 2a (optional) - map the scores in range (0-1) to five classes (1-5 or 0-4)"
   ]
  },
  {
   "cell_type": "code",
   "execution_count": 7,
   "metadata": {
    "collapsed": false
   },
   "outputs": [
    {
     "data": {
      "text/plain": [
       "0.5"
      ]
     },
     "execution_count": 7,
     "metadata": {},
     "output_type": "execute_result"
    }
   ],
   "source": [
    "len(phrase_scores.keys()) == len(phrase_map.keys())\n",
    "type(phrase_scores.items()[0][0]) == 'unicode'\n",
    "type(phrase_scores.items()[0][0]) == int\n",
    "phrase_scores.items()[0][1]"
   ]
  },
  {
   "cell_type": "code",
   "execution_count": 8,
   "metadata": {
    "collapsed": true
   },
   "outputs": [],
   "source": [
    "# map phrase ids to scores\n",
    "id_to_score = {k:phrase_scores[v] for k,v in phrase_map.items()}"
   ]
  },
  {
   "cell_type": "code",
   "execution_count": 9,
   "metadata": {
    "collapsed": true
   },
   "outputs": [],
   "source": [
    "from sklearn.feature_extraction.text import CountVectorizer\n",
    "\n",
    "# TASK (3) - extract unigram features for each phrase from the dataset\n",
    "# hint: use - sklearn.feature_extraction.text import CountVectorizer\n",
    "# http://scikit-learn.org/stable/modules/feature_extraction.html\n",
    "\n",
    "corpus = [k for k,v in phrase_map.items()]"
   ]
  },
  {
   "cell_type": "code",
   "execution_count": 10,
   "metadata": {
    "collapsed": false
   },
   "outputs": [
    {
     "data": {
      "text/plain": [
       "[u'with restraint',\n",
       " u'who is utterly unlikeable',\n",
       " u'smart , edgy',\n",
       " u'have been Problem Child',\n",
       " u'will want to see over and over again .',\n",
       " u'proves unrelentingly grim -- and equally engrossing',\n",
       " u'just feels generic',\n",
       " u'to bring happiness to their loved ones',\n",
       " u'woods',\n",
       " u'clotted']"
      ]
     },
     "execution_count": 10,
     "metadata": {},
     "output_type": "execute_result"
    }
   ],
   "source": [
    "corpus[:10]"
   ]
  },
  {
   "cell_type": "code",
   "execution_count": 11,
   "metadata": {
    "collapsed": true
   },
   "outputs": [],
   "source": [
    "vectorizer = CountVectorizer(min_df=1)\n",
    "X = vectorizer.fit_transform(corpus)\n",
    "y = [phrase_scores[v] for k,v in phrase_map.items()]"
   ]
  },
  {
   "cell_type": "code",
   "execution_count": 12,
   "metadata": {
    "collapsed": false
   },
   "outputs": [
    {
     "data": {
      "text/plain": [
       "(239232, 18021)"
      ]
     },
     "execution_count": 12,
     "metadata": {},
     "output_type": "execute_result"
    }
   ],
   "source": [
    "X.shape"
   ]
  },
  {
   "cell_type": "code",
   "execution_count": 47,
   "metadata": {
    "collapsed": false
   },
   "outputs": [
    {
     "data": {
      "text/plain": [
       "[0.41667,\n",
       " 0.38889,\n",
       " 0.72222,\n",
       " 0.5,\n",
       " 0.95833,\n",
       " 0.36111,\n",
       " 0.30556,\n",
       " 0.73611,\n",
       " 0.5,\n",
       " 0.30556]"
      ]
     },
     "execution_count": 47,
     "metadata": {},
     "output_type": "execute_result"
    }
   ],
   "source": [
    "len(y)\n",
    "y[:10]"
   ]
  },
  {
   "cell_type": "code",
   "execution_count": 14,
   "metadata": {
    "collapsed": false
   },
   "outputs": [],
   "source": [
    "X.shape\n",
    "small_X = X[:1000]\n",
    "small_y = y[:1000]\n",
    "\n",
    "random_X = np.random.random(small_X.shape)\n",
    "random_y = np.random.random(len(small_y))"
   ]
  },
  {
   "cell_type": "code",
   "execution_count": 15,
   "metadata": {
    "collapsed": false
   },
   "outputs": [],
   "source": [
    "# TASK (4) - split your data into train and test\n",
    "# Hint: use python indexing syntax, or http://scikit-learn.org/stable/modules/cross_validation.html\n",
    "from sklearn import cross_validation\n",
    "\n",
    "X_train, X_test, y_train, y_test = cross_validation.train_test_split(\n",
    "    small_X, small_y, test_size=0.3, random_state=0)\n",
    "# X_train, X_test, y_train, y_test = cross_validation.train_test_split(\n",
    "#     random_X, random_y, test_size=0.3, random_state=0)\n"
   ]
  },
  {
   "cell_type": "code",
   "execution_count": 16,
   "metadata": {
    "collapsed": false
   },
   "outputs": [
    {
     "data": {
      "text/plain": [
       "RandomForestRegressor(bootstrap=True, compute_importances=None,\n",
       "           criterion='mse', max_depth=None, max_features='auto',\n",
       "           max_leaf_nodes=None, min_density=None, min_samples_leaf=1,\n",
       "           min_samples_split=2, n_estimators=10, n_jobs=1, oob_score=False,\n",
       "           random_state=None, verbose=0)"
      ]
     },
     "execution_count": 16,
     "metadata": {},
     "output_type": "execute_result"
    }
   ],
   "source": [
    "# TASK (5) - use sklearn to train a classifier or regression model on your training data\n",
    "from sklearn.ensemble import RandomForestRegressor\n",
    "classifier = RandomForestRegressor()\n",
    "classifier.fit(X_train.toarray(), y_train)"
   ]
  },
  {
   "cell_type": "code",
   "execution_count": 18,
   "metadata": {
    "collapsed": false
   },
   "outputs": [],
   "source": [
    "# TASK (6) - evaluate your performance\n",
    "y_default_test = np.zeros(len(y_test)) + 0.5\n",
    "\n"
   ]
  },
  {
   "cell_type": "code",
   "execution_count": 19,
   "metadata": {
    "collapsed": false
   },
   "outputs": [
    {
     "data": {
      "text/plain": [
       "array([ 0.5,  0.5,  0.5,  0.5,  0.5,  0.5,  0.5,  0.5,  0.5,  0.5])"
      ]
     },
     "execution_count": 19,
     "metadata": {},
     "output_type": "execute_result"
    }
   ],
   "source": [
    "y_default_test[:10]"
   ]
  },
  {
   "cell_type": "code",
   "execution_count": 20,
   "metadata": {
    "collapsed": true
   },
   "outputs": [],
   "source": [
    "y_hat = classifier.predict(X_test.toarray())"
   ]
  },
  {
   "cell_type": "code",
   "execution_count": 21,
   "metadata": {
    "collapsed": false
   },
   "outputs": [],
   "source": [
    "from sklearn.metrics import mean_squared_error"
   ]
  },
  {
   "cell_type": "code",
   "execution_count": 23,
   "metadata": {
    "collapsed": false
   },
   "outputs": [
    {
     "data": {
      "text/plain": [
       "0.0047895687436166675"
      ]
     },
     "execution_count": 23,
     "metadata": {},
     "output_type": "execute_result"
    }
   ],
   "source": [
    "mean_squared_error(y_default_test, y_hat)"
   ]
  },
  {
   "cell_type": "code",
   "execution_count": null,
   "metadata": {
    "collapsed": true
   },
   "outputs": [],
   "source": [
    "# with 1000 instances: 0.037500130068509996\n",
    "# random 1000: 0.089035329288528336"
   ]
  }
 ],
 "metadata": {
  "kernelspec": {
   "display_name": "Python 2",
   "language": "python",
   "name": "python2"
  },
  "language_info": {
   "codemirror_mode": {
    "name": "ipython",
    "version": 2
   },
   "file_extension": ".py",
   "mimetype": "text/x-python",
   "name": "python",
   "nbconvert_exporter": "python",
   "pygments_lexer": "ipython2",
   "version": "2.7.9"
  }
 },
 "nbformat": 4,
 "nbformat_minor": 0
}
