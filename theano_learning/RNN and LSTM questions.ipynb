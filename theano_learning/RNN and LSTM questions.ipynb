{
 "metadata": {
  "name": ""
 },
 "nbformat": 3,
 "nbformat_minor": 0,
 "worksheets": [
  {
   "cells": [
    {
     "cell_type": "markdown",
     "metadata": {},
     "source": [
      "- how is the data formatted for the RNN sequence tagging example?\n",
      "- how is the data formatted for the LSTM example\n",
      "- why do LSTMs generally improve performance over standard RNNs?\n",
      "- how are the weight matrices organized for the LSTM example?\n",
      "\n",
      "[LSTM example](http://deeplearning.net/tutorial/lstm.html)              \n",
      "[RNN example](http://deeplearning.net/tutorial/rnnslu.html)              \n"
     ]
    },
    {
     "cell_type": "code",
     "collapsed": false,
     "input": [],
     "language": "python",
     "metadata": {},
     "outputs": []
    }
   ],
   "metadata": {}
  }
 ]
}