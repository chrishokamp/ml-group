{
 "metadata": {
  "kernelspec": {
   "display_name": "Python 2", 
   "language": "python", 
   "name": "python2"
  }, 
  "language_info": {
   "codemirror_mode": {
    "name": "ipython", 
    "version": 2
   }, 
   "file_extension": ".py", 
   "mimetype": "text/x-python", 
   "name": "python", 
   "nbconvert_exporter": "python", 
   "pygments_lexer": "ipython2", 
   "version": "2.7.9"
  }, 
  "name": ""
 }, 
 "nbformat": 2, 
 "nbformat_minor": 0, 
 "orig_nbformat": 4, 
 "orig_nbformat_minor": 0, 
 "worksheets": [
  {
   "cells": [
    {
     "cell_type": "code", 
     "collapsed": false, 
     "input": [
      "from __future__ import division, print_function", 
      "import numpy as np", 
      "", 
      "%load_ext autoreload", 
      "%autoreload 2"
     ], 
     "language": "python", 
     "metadata": {}, 
     "outputs": [], 
     "prompt_number": 2
    }, 
    {
     "cell_type": "code", 
     "collapsed": true, 
     "input": [
      "# format: phrase|phrase_id", 
      "dictionary_file = 'sample_data/stanfordSentimentTreebank/dictionary.txt'", 
      "", 
      "# format: phrase_id|score", 
      "phrases_and_scores = 'sample_data/stanfordSentimentTreebank/sentiment_labels.txt'"
     ], 
     "language": "python", 
     "metadata": {}, 
     "outputs": [], 
     "prompt_number": 3
    }, 
    {
     "cell_type": "code", 
     "collapsed": true, 
     "input": [
      "# TASK (1) - create a lookup index for the phrases"
     ], 
     "language": "python", 
     "metadata": {}, 
     "outputs": [], 
     "prompt_number": null
    }, 
    {
     "cell_type": "code", 
     "collapsed": true, 
     "input": [
      "# TASK (2) - map the phrases to their scores", 
      "# task 2a (optional) - map the scores in range (0-1) to five classes (1-5 or 0-4)"
     ], 
     "language": "python", 
     "metadata": {}, 
     "outputs": [], 
     "prompt_number": null
    }, 
    {
     "cell_type": "code", 
     "collapsed": true, 
     "input": [
      "# TASK (3) - extract unigram features for each phrase from the dataset", 
      "# hint: use - sklearn.feature_extraction.text import CountVectorizer", 
      "# http://scikit-learn.org/stable/modules/feature_extraction.html"
     ], 
     "language": "python", 
     "metadata": {}, 
     "outputs": [], 
     "prompt_number": null
    }, 
    {
     "cell_type": "code", 
     "collapsed": true, 
     "input": [
      "# TASK (4) - split your data into train and test", 
      "# Hint: use python indexing syntax, or http://scikit-learn.org/stable/modules/cross_validation.html"
     ], 
     "language": "python", 
     "metadata": {}, 
     "outputs": [], 
     "prompt_number": null
    }, 
    {
     "cell_type": "code", 
     "collapsed": true, 
     "input": [
      "# TASK (5) - use sklearn to train a classifier or regression model on your training data"
     ], 
     "language": "python", 
     "metadata": {}, 
     "outputs": [], 
     "prompt_number": null
    }, 
    {
     "cell_type": "code", 
     "collapsed": true, 
     "input": [
      "# TASK (6) - evaluate your performance"
     ], 
     "language": "python", 
     "metadata": {}, 
     "outputs": [], 
     "prompt_number": null
    }
   ], 
   "metadata": {}
  }
 ]
}