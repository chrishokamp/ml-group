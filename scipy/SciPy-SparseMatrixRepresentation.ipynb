{
 "metadata": {
  "name": "",
  "signature": "sha256:7c12ad9eb0a37191100a0766c3b7972597cd4603c726577b289435fce99ad2c4"
 },
 "nbformat": 3,
 "nbformat_minor": 0,
 "worksheets": [
  {
   "cells": [
    {
     "cell_type": "heading",
     "level": 1,
     "metadata": {},
     "source": [
      "Classification Problem"
     ]
    },
    {
     "cell_type": "markdown",
     "metadata": {},
     "source": [
      "StackOverflow Datatset:    \n",
      "<ul>\n",
      "    <li>Negative: 30163\n",
      "    <li>Positive: 1315731\n",
      "    <li>Total: 60326\n",
      "</ul>"
     ]
    },
    {
     "cell_type": "heading",
     "level": 4,
     "metadata": {},
     "source": [
      "No of Features "
     ]
    },
    {
     "cell_type": "code",
     "collapsed": false,
     "input": [
      "60326*2*60326"
     ],
     "language": "python",
     "metadata": {},
     "outputs": [
      {
       "metadata": {},
       "output_type": "pyout",
       "prompt_number": 73,
       "text": [
        "7278452552L"
       ]
      }
     ],
     "prompt_number": 73
    },
    {
     "cell_type": "heading",
     "level": 4,
     "metadata": {},
     "source": [
      "RAM Required"
     ]
    },
    {
     "cell_type": "code",
     "collapsed": false,
     "input": [
      "(60326*2*60326*4.0)/(1000*1000*1000)"
     ],
     "language": "python",
     "metadata": {},
     "outputs": [
      {
       "metadata": {},
       "output_type": "pyout",
       "prompt_number": 74,
       "text": [
        "29.113810208"
       ]
      }
     ],
     "prompt_number": 74
    },
    {
     "cell_type": "heading",
     "level": 6,
     "metadata": {},
     "source": [
      "Conlusion:<ul>\n",
      "<li>Weka: Fails</li>\n",
      "<li>Numpy: Memory Error</li>\n",
      "<li>SciPy: Our Saviour</li>\n",
      "</ul>"
     ]
    },
    {
     "cell_type": "heading",
     "level": 2,
     "metadata": {},
     "source": [
      "SciPy-Sparse Matrix Representation"
     ]
    },
    {
     "cell_type": "markdown",
     "metadata": {},
     "source": [
      "<img src=\"image.png\">"
     ]
    },
    {
     "cell_type": "code",
     "collapsed": false,
     "input": [
      "import numpy as np\n",
      "from scipy import sparse\n",
      "A = np.array([[1,2,0],[0,0,3],[1,0,4]])\n",
      "B = np.matrix([[1,2,0],[0,0,3],[1,0,4]])\n",
      "#print(A)\n",
      "#print(B)"
     ],
     "language": "python",
     "metadata": {},
     "outputs": [],
     "prompt_number": 75
    },
    {
     "cell_type": "code",
     "collapsed": false,
     "input": [
      "# Here's the initialization of the sparse matrix.\n",
      "sA = sparse.csr_matrix(A)   \n",
      "sB = sparse.csr_matrix(B)"
     ],
     "language": "python",
     "metadata": {},
     "outputs": [],
     "prompt_number": 76
    },
    {
     "cell_type": "code",
     "collapsed": false,
     "input": [
      "#print sA,sA.shape,sA.size\n",
      "#print sB,sB.shape,sB.size\n"
     ],
     "language": "python",
     "metadata": {},
     "outputs": [],
     "prompt_number": 77
    },
    {
     "cell_type": "code",
     "collapsed": false,
     "input": [
      "import numpy as np\n",
      "from numpy import genfromtxt\n",
      "from sklearn.feature_extraction.text import CountVectorizer\n",
      "from sklearn.naive_bayes import GaussianNB\n",
      "from sklearn.cross_validation import train_test_split\n",
      "from sklearn.metrics import accuracy_score\n",
      "from scipy import sparse\n",
      "from sklearn.naive_bayes import MultinomialNB"
     ],
     "language": "python",
     "metadata": {},
     "outputs": [],
     "prompt_number": 78
    },
    {
     "cell_type": "code",
     "collapsed": false,
     "input": [
      "#loading parameters for extracting unigram features\n",
      "vectorizer = CountVectorizer(min_df=1,input=u'content',lowercase=True,encoding=u'utf-8',stop_words='english')\n",
      "\n",
      "#reading data from csv file\n",
      "my_data = genfromtxt(\"sample.csv\",delimiter=',',dtype=object)\n",
      "\n",
      "#separating textual part\n",
      "data = [j for j in  my_data[:,0]]\n",
      "\n",
      "#separating classes\n",
      "output = [int(j) for j in my_data[:,1]]\n",
      "\n",
      "#converting data into feature array\n",
      "X = vectorizer.fit_transform(data)\n",
      "#print X.shape\n",
      "#print type(X)\n",
      "\n",
      "#dividing dataset into train and test based on percentage split which are given as an input parameter\n",
      "train, test, y_train, y_test= train_test_split(X, output,train_size = 0.9)\n",
      "\n",
      "#print train.shape,test.shape\n",
      "#print y_train.shape,y_test.shape\n",
      "\n",
      "#some erros here print \"type of train set\",type(train),type(test),type(y_train)\n",
      "\n",
      "#converting into sparse representation\n",
      "A = sparse.csr_matrix(train)\n",
      "B = sparse.csr_matrix(test)\n",
      "#print A.size,B.size,A.shape,B.shape\n",
      "#print type(A),type(B)"
     ],
     "language": "python",
     "metadata": {},
     "outputs": [],
     "prompt_number": 79
    },
    {
     "cell_type": "code",
     "collapsed": false,
     "input": [
      "#Multinomial Naive Bayes classification algorithm using Sparse Matrix\n",
      "clf = MultinomialNB()\n",
      "clf.fit(A,y_train)\n",
      "pred = clf.predict(B)\n",
      "print accuracy_score(y_test,pred)"
     ],
     "language": "python",
     "metadata": {},
     "outputs": [
      {
       "output_type": "stream",
       "stream": "stdout",
       "text": [
        "0.744571523289\n"
       ]
      }
     ],
     "prompt_number": 80
    },
    {
     "cell_type": "code",
     "collapsed": false,
     "input": [],
     "language": "python",
     "metadata": {},
     "outputs": [],
     "prompt_number": 46
    },
    {
     "cell_type": "code",
     "collapsed": false,
     "input": [],
     "language": "python",
     "metadata": {},
     "outputs": []
    }
   ],
   "metadata": {}
  }
 ]
}