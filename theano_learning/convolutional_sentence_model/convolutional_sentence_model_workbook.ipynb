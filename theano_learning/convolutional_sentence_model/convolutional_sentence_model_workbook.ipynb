{
 "cells": [
  {
   "cell_type": "code",
   "execution_count": 28,
   "metadata": {
    "collapsed": false
   },
   "outputs": [
    {
     "name": "stdout",
     "output_type": "stream",
     "text": [
      "The autoreload extension is already loaded. To reload it, use:\n",
      "  %reload_ext autoreload\n"
     ]
    }
   ],
   "source": [
    "from __future__ import division, print_function\n",
    "import numpy as np\n",
    "\n",
    "%load_ext autoreload\n",
    "%autoreload 2"
   ]
  },
  {
   "cell_type": "code",
   "execution_count": 29,
   "metadata": {
    "collapsed": true
   },
   "outputs": [],
   "source": [
    "# A sketch of the task\n",
    "\n",
    "\n",
    "# rows are features, columns are sequence elements"
   ]
  },
  {
   "cell_type": "code",
   "execution_count": 30,
   "metadata": {
    "collapsed": true
   },
   "outputs": [],
   "source": [
    "# where are there parameters?"
   ]
  },
  {
   "cell_type": "code",
   "execution_count": 31,
   "metadata": {
    "collapsed": true
   },
   "outputs": [],
   "source": [
    "# With theano.tensor.nnet.conv2d\n",
    "import theano.tensor as T\n",
    "from theano.tensor import nnet\n",
    "from theano import function"
   ]
  },
  {
   "cell_type": "code",
   "execution_count": 32,
   "metadata": {
    "collapsed": false
   },
   "outputs": [
    {
     "name": "stdout",
     "output_type": "stream",
     "text": [
      "(3, 3, 1, 2)\n"
     ]
    }
   ],
   "source": [
    "# 3 features, filter size =2\n",
    "# A = [[1,1,1,1], [2,2,2,2], [3,3,3,3]]\n",
    "# B = [[1,1],[2,2], [3,3]]\n",
    "\n",
    "# filter dim should be (3,3, 1, 2)\n",
    "b_filter = np.array([ [ [[1,1]], [[0,0]], [[0,0]] ], [ [[0,0]],[[2,2]], [[0,0]] ], [ [[0,0]],[[0,0]], [[3,3]] ] ], dtype='float32')\n",
    "\n",
    "sequence_1d_data=T.tensor4(name='sequence_1D')\n",
    "# filters = tensor4(nb filters, stack size, nb row, nb col)\n",
    "print(b_filter.shape)\n",
    "\n",
    "conv_out = nnet.conv.conv2d(sequence_1d_data.dimshuffle(1, 0, 2, 3), b_filter, border_mode='full')"
   ]
  },
  {
   "cell_type": "code",
   "execution_count": 33,
   "metadata": {
    "collapsed": false
   },
   "outputs": [],
   "source": [
    "convolve_1d = function([sequence_1d_data], conv_out)"
   ]
  },
  {
   "cell_type": "code",
   "execution_count": 34,
   "metadata": {
    "collapsed": false
   },
   "outputs": [
    {
     "data": {
      "text/plain": [
       "array([[[[  1.,   3.,   5.,   7.,   4.]],\n",
       "\n",
       "        [[  2.,   6.,  10.,  14.,   8.]],\n",
       "\n",
       "        [[  3.,   9.,  15.,  21.,  12.]]]], dtype=float32)"
      ]
     },
     "execution_count": 34,
     "metadata": {},
     "output_type": "execute_result"
    }
   ],
   "source": [
    "# so that h_shuffled (A_shuffled?) is (1, ndim, 1, nitems)\n",
    "# x1 = np.array([ [[ [1,2,3],[1,2,3],[1,2,3],[1,2,3] ]], [[ [1,2,3],[1,2,3],[1,2,3],[1,2,3] ]], [[ [1,2,3],[1,2,3],[1,2,3],[1,2,3] ]] ], dtype='float32')\n",
    "x1 = np.array([ [[ [1,2,3,4] ]], [[ [1,2,3,4] ]], [[ [1,2,3,4] ]] ], dtype='float32') \n",
    "x1_conv = convolve_1d(x1)\n",
    "\n",
    "x1_conv"
   ]
  },
  {
   "cell_type": "code",
   "execution_count": 35,
   "metadata": {
    "collapsed": false
   },
   "outputs": [],
   "source": [
    "# trying to do a k max\n",
    "\n",
    "from theano.tensor import argsort\n",
    "\n",
    "# TODO - flatten out the unneccesary dims here\n",
    "sort_test = argsort(conv_out, axis=3)"
   ]
  },
  {
   "cell_type": "code",
   "execution_count": 36,
   "metadata": {
    "collapsed": false
   },
   "outputs": [],
   "source": [
    "# slice the end of sort test to get the top K column indices\n",
    "k = 3\n",
    "top_indices = sort_test[:,:,:,-k:].reshape((3,3))\n",
    "\n",
    "# we want to sort the _INDICES_ now, so that the original order is maintained\n"
   ]
  },
  {
   "cell_type": "code",
   "execution_count": 37,
   "metadata": {
    "collapsed": false
   },
   "outputs": [],
   "source": [
    "from theano.tensor import sort\n",
    "ordered_top_indices = sort(top_indices)"
   ]
  },
  {
   "cell_type": "code",
   "execution_count": 38,
   "metadata": {
    "collapsed": true
   },
   "outputs": [],
   "source": [
    "# flatten out those extra dims for sanity -- note we cannot hard code the shape in reality\n",
    "just_data = conv_out.reshape((3,5))"
   ]
  },
  {
   "cell_type": "code",
   "execution_count": 39,
   "metadata": {
    "collapsed": false
   },
   "outputs": [],
   "source": [
    "# now take those values from the original, and make a new tensor with only the top K\n",
    "from theano.tensor import take\n",
    "\n",
    "# weird hack because of the way the 'take' function works\n",
    "linear_k_max = take(just_data, ordered_top_indices, axis=1)[:,0,:]"
   ]
  },
  {
   "cell_type": "code",
   "execution_count": 40,
   "metadata": {
    "collapsed": false
   },
   "outputs": [],
   "source": [
    "from theano.tensor.nnet import sigmoid\n",
    "\n",
    "# TODO: add biases for each row\n",
    "feature_map_1 = sigmoid(linear_k_max)"
   ]
  },
  {
   "cell_type": "code",
   "execution_count": 41,
   "metadata": {
    "collapsed": false
   },
   "outputs": [],
   "source": [
    "from theano.tensor import sum\n",
    "\n",
    "folded_k_max = sum(linear_k_max, axis=1)"
   ]
  },
  {
   "cell_type": "code",
   "execution_count": null,
   "metadata": {
    "collapsed": true
   },
   "outputs": [],
   "source": [
    "# a convolutional layer"
   ]
  },
  {
   "cell_type": "code",
   "execution_count": null,
   "metadata": {
    "collapsed": true
   },
   "outputs": [],
   "source": [
    "# a k-max layer"
   ]
  },
  {
   "cell_type": "code",
   "execution_count": 42,
   "metadata": {
    "collapsed": false
   },
   "outputs": [
    {
     "name": "stderr",
     "output_type": "stream",
     "text": [
      "/home/chris/programs/anaconda/lib/python2.7/site-packages/theano/tensor/subtensor.py:110: FutureWarning: comparison to `None` will result in an elementwise object comparison in the future.\n",
      "  start in [None, 0] or\n",
      "/home/chris/programs/anaconda/lib/python2.7/site-packages/theano/tensor/subtensor.py:114: FutureWarning: comparison to `None` will result in an elementwise object comparison in the future.\n",
      "  stop in [None, length, maxsize] or\n"
     ]
    }
   ],
   "source": [
    "# max_test = function([sequence_1d_data], top_indices)\n",
    "# max_test = function([sequence_1d_data], just_data)\n",
    "max_test = function([sequence_1d_data], linear_k_max)\n",
    "max_test = function([sequence_1d_data], conv_out)\n",
    "max_test = function([sequence_1d_data], folded_k_max)\n",
    "max_test = function([sequence_1d_data], feature_map_1)"
   ]
  },
  {
   "cell_type": "code",
   "execution_count": 43,
   "metadata": {
    "collapsed": false
   },
   "outputs": [
    {
     "data": {
      "text/plain": [
       "array([[ 0.99330717,  0.99908894,  0.98201376],\n",
       "       [ 0.99995458,  0.99999917,  0.99966466],\n",
       "       [ 0.9999997 ,  1.        ,  0.99999386]], dtype=float32)"
      ]
     },
     "execution_count": 43,
     "metadata": {},
     "output_type": "execute_result"
    }
   ],
   "source": [
    "max_test(x1)"
   ]
  },
  {
   "cell_type": "code",
   "execution_count": 27,
   "metadata": {
    "collapsed": true
   },
   "outputs": [],
   "source": [
    "# the convolution operation"
   ]
  },
  {
   "cell_type": "code",
   "execution_count": 2,
   "metadata": {
    "collapsed": true
   },
   "outputs": [],
   "source": [
    "# the 1D convolution"
   ]
  },
  {
   "cell_type": "code",
   "execution_count": 3,
   "metadata": {
    "collapsed": true
   },
   "outputs": [],
   "source": [
    "# the intuition behind the convolutional sentence model"
   ]
  },
  {
   "cell_type": "code",
   "execution_count": null,
   "metadata": {
    "collapsed": true
   },
   "outputs": [],
   "source": [
    "# K-max pooling"
   ]
  },
  {
   "cell_type": "markdown",
   "metadata": {},
   "source": [
    "questions & exercises\n",
    "\n",
    "(1) write a function to get the _indices_ of the top K values in an array\n",
    "(2) write a 1d narrow and wide convolution using python (and numpy if you want)\n"
   ]
  },
  {
   "cell_type": "code",
   "execution_count": null,
   "metadata": {
    "collapsed": true
   },
   "outputs": [],
   "source": []
  }
 ],
 "metadata": {
  "kernelspec": {
   "display_name": "Python 2",
   "language": "python",
   "name": "python2"
  },
  "language_info": {
   "codemirror_mode": {
    "name": "ipython",
    "version": 2
   },
   "file_extension": ".py",
   "mimetype": "text/x-python",
   "name": "python",
   "nbconvert_exporter": "python",
   "pygments_lexer": "ipython2",
   "version": "2.7.9"
  }
 },
 "nbformat": 4,
 "nbformat_minor": 0
}
